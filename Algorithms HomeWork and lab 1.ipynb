{
 "cells": [
  {
   "cell_type": "markdown",
   "metadata": {},
   "source": [
    "# Factorial Iterative\n"
   ]
  },
  {
   "cell_type": "code",
   "execution_count": 16,
   "metadata": {},
   "outputs": [
    {
     "name": "stdout",
     "output_type": "stream",
     "text": [
      "1\n",
      "1\n",
      "2\n",
      "6\n",
      "120\n"
     ]
    }
   ],
   "source": [
    "def factorial_iterative(x):\n",
    "    if x == 0 :\n",
    "        return 1 \n",
    "    else:\n",
    "        product = 1 \n",
    "        for i in range(1,x+1):\n",
    "            product = i * product \n",
    "    \n",
    "    return product\n",
    "print(factorial_iterative(0))\n",
    "print(factorial_iterative(1))\n",
    "print(factorial_iterative(2))\n",
    "print(factorial_iterative(3))\n",
    "print(factorial_iterative(5))"
   ]
  },
  {
   "cell_type": "markdown",
   "metadata": {},
   "source": [
    "# Recursive Factorial\n"
   ]
  },
  {
   "cell_type": "code",
   "execution_count": 27,
   "metadata": {},
   "outputs": [
    {
     "name": "stdout",
     "output_type": "stream",
     "text": [
      "1\n",
      "1\n",
      "2\n",
      "6\n",
      "120\n"
     ]
    }
   ],
   "source": [
    "def factorial_recursive(x):\n",
    "    if x == 0 :\n",
    "        return 1 \n",
    "    else:\n",
    "        return x * factorial_recursive(x-1)\n",
    "        \n",
    "print(factorial_recursive(0))\n",
    "print(factorial_recursive(1))\n",
    "print(factorial_recursive(2))\n",
    "print(factorial_recursive(3))\n",
    "print(factorial_recursive(5))"
   ]
  },
  {
   "cell_type": "markdown",
   "metadata": {},
   "source": [
    "# Fibonacci Iterative\n"
   ]
  },
  {
   "cell_type": "code",
   "execution_count": 1,
   "metadata": {},
   "outputs": [
    {
     "name": "stdout",
     "output_type": "stream",
     "text": [
      "[0, 1, 1]\n",
      "[0, 1, 1, 2]\n",
      "[0, 1, 1, 2, 3]\n",
      "[0, 1, 1, 2, 3, 5, 8]\n",
      "[0, 1, 1, 2, 3, 5, 8, 13, 21, 34]\n"
     ]
    }
   ],
   "source": [
    "def fibonacci_iterative(index):\n",
    "    result = [0,1]\n",
    "    if index < 2:\n",
    "        pass\n",
    "    else:\n",
    "        for i in range(2,index):\n",
    "            result.append(result[-1] + result[-2])\n",
    "        \n",
    "    return result\n",
    "\n",
    "print(fibonacci_iterative(3))\n",
    "print(fibonacci_iterative(4))\n",
    "print(fibonacci_iterative(5))\n",
    "print(fibonacci_iterative(7))\n",
    "print(fibonacci_iterative(10))"
   ]
  },
  {
   "cell_type": "markdown",
   "metadata": {},
   "source": [
    "# Fibonacci Recursion"
   ]
  },
  {
   "cell_type": "code",
   "execution_count": 23,
   "metadata": {},
   "outputs": [
    {
     "name": "stdout",
     "output_type": "stream",
     "text": [
      "[0, 1, 1]\n",
      "[0, 1, 1, 2]\n",
      "[0, 1, 1, 2, 3]\n",
      "[0, 1, 1, 2, 3, 5, 8]\n",
      "[0, 1, 1, 2, 3, 5, 8, 13, 21, 34]\n"
     ]
    }
   ],
   "source": [
    "def fibonacci_recursion(result, index):\n",
    "    if len(result) == index:\n",
    "        return result\n",
    "    else:\n",
    "        result.append(result[-1]+result[-2])\n",
    "        return fibonacci_recursion(result, index)\n",
    "        \n",
    "print(fibonacci_recursion([0,1],3))\n",
    "print(fibonacci_recursion([0,1],4))\n",
    "print(fibonacci_recursion([0,1],5))\n",
    "print(fibonacci_recursion([0,1],7)) \n",
    "print(fibonacci_recursion([0,1],10))"
   ]
  },
  {
   "cell_type": "markdown",
   "metadata": {},
   "source": [
    "## GCD\n"
   ]
  },
  {
   "cell_type": "code",
   "execution_count": 42,
   "metadata": {},
   "outputs": [
    {
     "data": {
      "text/plain": [
       "1"
      ]
     },
     "execution_count": 42,
     "metadata": {},
     "output_type": "execute_result"
    }
   ],
   "source": [
    "def GCD(x,y):\n",
    "    greater = max(x,y)\n",
    "    smaller = min(x,y)\n",
    "    if greater % smaller == 0:\n",
    "        return smaller\n",
    "    else:\n",
    "        val = int(smaller/2)\n",
    "        if greater % val ==0 and smaller % val ==0:\n",
    "            return val\n",
    "        else:\n",
    "            for i in range(1,val):\n",
    "                if greater % (val-i) ==0 and smaller % (val-i) ==0:\n",
    "                    return val-i\n",
    "                    break\n",
    "                    \n",
    "GCD(1000,77)"
   ]
  },
  {
   "cell_type": "markdown",
   "metadata": {},
   "source": [
    "# Iterative Linear Search"
   ]
  },
  {
   "cell_type": "code",
   "execution_count": 35,
   "metadata": {},
   "outputs": [
    {
     "name": "stdout",
     "output_type": "stream",
     "text": [
      "not found\n"
     ]
    },
    {
     "data": {
      "text/plain": [
       "1"
      ]
     },
     "execution_count": 35,
     "metadata": {},
     "output_type": "execute_result"
    }
   ],
   "source": [
    "def linear_search(arr,value):\n",
    "    found = False\n",
    "    for i in range(len(arr)):\n",
    "        if arr[i]== value:\n",
    "            found = True\n",
    "            return i\n",
    "            break \n",
    "    if found:\n",
    "        pass\n",
    "    else:\n",
    "        print('not found')\n",
    "            \n",
    "linear_search([1,2,3,4,5,6,7,8,9,10],15)\n",
    "linear_search([1,2,3,4,5,6,7,8,9,10],2)"
   ]
  },
  {
   "cell_type": "markdown",
   "metadata": {},
   "source": [
    "# Recursion linear search"
   ]
  },
  {
   "cell_type": "code",
   "execution_count": 30,
   "metadata": {},
   "outputs": [
    {
     "data": {
      "text/plain": [
       "3"
      ]
     },
     "execution_count": 30,
     "metadata": {},
     "output_type": "execute_result"
    }
   ],
   "source": [
    "def recursion_linear_search(arr,value):\n",
    "    \n",
    "    if len(arr) == 0:\n",
    "        print('not found')           \n",
    "    elif arr[len(arr)-1] == value:\n",
    "        return len(arr)-1\n",
    "    \n",
    "    else:\n",
    "        del arr[len(arr)-1]\n",
    "        return recursion_linear_search(arr,value)\n",
    "    \n",
    "recursion_linear_search([1,2,3,4,5,6,7,8,9,10],4)       "
   ]
  },
  {
   "cell_type": "markdown",
   "metadata": {},
   "source": [
    "# Binary Search Iterative"
   ]
  },
  {
   "cell_type": "code",
   "execution_count": 18,
   "metadata": {},
   "outputs": [
    {
     "name": "stdout",
     "output_type": "stream",
     "text": [
      "None\n",
      "3\n"
     ]
    }
   ],
   "source": [
    "def binary_search(array, value):\n",
    "    start = 0 \n",
    "    end = len(array)-1\n",
    "    while start < end:\n",
    "        mid = int((start + end)/2)\n",
    "        if array[mid] == value:\n",
    "            return mid\n",
    "            break\n",
    "        elif value > array[mid]:\n",
    "            start = mid + 1\n",
    "        elif value < array[mid]:\n",
    "            end = mid - 1\n",
    "         \n",
    "        \n",
    "print(binary_search([1,2,3,4,5], 10))\n",
    "print(binary_search([1,2,3,4,5], 4))"
   ]
  },
  {
   "cell_type": "markdown",
   "metadata": {},
   "source": [
    "# Binary Search Recursive"
   ]
  },
  {
   "cell_type": "code",
   "execution_count": 34,
   "metadata": {},
   "outputs": [
    {
     "data": {
      "text/plain": [
       "3"
      ]
     },
     "execution_count": 34,
     "metadata": {},
     "output_type": "execute_result"
    }
   ],
   "source": [
    "def binary_search_recursive(array, value, start, end):\n",
    "    mid = int((start + end)/2)\n",
    "    if end < start:\n",
    "        return -1 \n",
    "    elif array[mid] == value:\n",
    "        return mid\n",
    "    elif value > array[mid]:\n",
    "        start = mid + 1\n",
    "    elif value < array[mid]:\n",
    "         end = mid - 1\n",
    "    return binary_search_recursive(array, value, start, end)\n",
    "\n",
    "binary_search_recursive([1,2,3,4,5], 4, 0, len([1,2,3,4,5]))"
   ]
  },
  {
   "cell_type": "markdown",
   "metadata": {},
   "source": [
    "# Insertion sort"
   ]
  },
  {
   "cell_type": "code",
   "execution_count": 53,
   "metadata": {},
   "outputs": [
    {
     "data": {
      "text/plain": [
       "[1, 2, 3, 4, 5, 9, 10]"
      ]
     },
     "execution_count": 53,
     "metadata": {},
     "output_type": "execute_result"
    }
   ],
   "source": [
    "def insertion(arr):\n",
    "    for i in range(1,len(arr)):\n",
    "        j = i\n",
    "        while j > 0 and arr[j] < arr[j-1]:\n",
    "            arr[j],arr[j-1] = arr[j-1], arr[j]\n",
    "            j -= 1\n",
    "            \n",
    "    return arr\n",
    "\n",
    "insertion([5,4,3,2,1,9,10])"
   ]
  },
  {
   "cell_type": "markdown",
   "metadata": {},
   "source": [
    "# Bubble sort"
   ]
  },
  {
   "cell_type": "code",
   "execution_count": 32,
   "metadata": {},
   "outputs": [
    {
     "data": {
      "text/plain": [
       "[0, 1, 2, 3, 3, 4, 5, 6, 9, 10, 12, 14, 36]"
      ]
     },
     "execution_count": 32,
     "metadata": {},
     "output_type": "execute_result"
    }
   ],
   "source": [
    "def bubble(arr):\n",
    "    for i in range(len(arr)):\n",
    "        j = i\n",
    "        for j in range(len(arr)-1-i):\n",
    "            if arr[j] > arr[j+1]:\n",
    "                arr[j],arr[j+1] = arr[j+1],arr[j]\n",
    "            else:\n",
    "                pass\n",
    "    return arr\n",
    "            \n",
    "bubble([5,4,3,2,1,9,10,6,3,12,14,36,0])"
   ]
  },
  {
   "cell_type": "markdown",
   "metadata": {},
   "source": [
    "## Bubble sort modified"
   ]
  },
  {
   "cell_type": "code",
   "execution_count": 35,
   "metadata": {},
   "outputs": [
    {
     "data": {
      "text/plain": [
       "[1, 2, 3, 4, 5, 7, 8, 9]"
      ]
     },
     "execution_count": 35,
     "metadata": {},
     "output_type": "execute_result"
    }
   ],
   "source": [
    "def bubble_modified(arr):\n",
    "    for i in range(len(arr)):\n",
    "        j = i\n",
    "        sort = True\n",
    "        for j in range(len(arr)-1-i):  \n",
    "            if arr[j] > arr[j+1]:\n",
    "                arr[j],arr[j+1] = arr[j+1],arr[j]\n",
    "                sort = False\n",
    "            else:\n",
    "                pass\n",
    "        if sort:\n",
    "            break\n",
    "    return arr\n",
    "            \n",
    "bubble([1,2,3,4,5,7,8,9])"
   ]
  },
  {
   "cell_type": "code",
   "execution_count": null,
   "metadata": {},
   "outputs": [],
   "source": []
  }
 ],
 "metadata": {
  "kernelspec": {
   "display_name": "Python 3",
   "language": "python",
   "name": "python3"
  },
  "language_info": {
   "codemirror_mode": {
    "name": "ipython",
    "version": 3
   },
   "file_extension": ".py",
   "mimetype": "text/x-python",
   "name": "python",
   "nbconvert_exporter": "python",
   "pygments_lexer": "ipython3",
   "version": "3.8.10"
  },
  "toc": {
   "base_numbering": 1,
   "nav_menu": {},
   "number_sections": true,
   "sideBar": true,
   "skip_h1_title": false,
   "title_cell": "Table of Contents",
   "title_sidebar": "Contents",
   "toc_cell": false,
   "toc_position": {},
   "toc_section_display": true,
   "toc_window_display": false
  }
 },
 "nbformat": 4,
 "nbformat_minor": 4
}
