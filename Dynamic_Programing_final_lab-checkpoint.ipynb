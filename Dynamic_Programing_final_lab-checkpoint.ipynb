{
 "cells": [
  {
   "cell_type": "markdown",
   "id": "9861e5eb",
   "metadata": {},
   "source": [
    "## Fibonacci DP"
   ]
  },
  {
   "cell_type": "code",
   "execution_count": 1,
   "id": "992ddff9",
   "metadata": {},
   "outputs": [
    {
     "data": {
      "text/plain": [
       "[1, 1, 1, 1, 1]"
      ]
     },
     "execution_count": 1,
     "metadata": {},
     "output_type": "execute_result"
    }
   ],
   "source": [
    "def Fib(n):\n",
    "    fib_list = [None] * (n)\n",
    "    if fib_list[n] != None:\n",
    "        return fib[n]\n",
    "    elif n == 0;"
   ]
  },
  {
   "cell_type": "markdown",
   "id": "85f847e9",
   "metadata": {},
   "source": [
    "## Knapsack 0/1 DP"
   ]
  },
  {
   "cell_type": "code",
   "execution_count": 8,
   "id": "b2681759",
   "metadata": {},
   "outputs": [],
   "source": [
    "import numpy as np"
   ]
  },
  {
   "cell_type": "code",
   "execution_count": 55,
   "id": "21f16264",
   "metadata": {},
   "outputs": [
    {
     "data": {
      "text/plain": [
       "array([[ 0.,  0.,  0.,  0.,  0.,  0.,  0.,  0.,  0.],\n",
       "       [ 0.,  5.,  5.,  5.,  5.,  5.,  5.,  5.,  5.],\n",
       "       [ 0.,  5., 10., 15., 15., 15., 15., 15., 15.],\n",
       "       [ 0.,  5., 10., 25., 25., 35., 40., 40., 40.],\n",
       "       [ 0.,  5., 10., 25., 30., 30., 30., 55., 55.]])"
      ]
     },
     "execution_count": 55,
     "metadata": {},
     "output_type": "execute_result"
    }
   ],
   "source": [
    "def Knapsack_DP(weights, values, max_sack_weight):\n",
    "    our_matrix = np.zeros((len(weights), max_sack_weight +1))\n",
    "    for i in range(1,len(weights)) :   \n",
    "        for j in range(1,max_sack_weight+1):\n",
    "            if weights[i] <= j :\n",
    "                if weights[i] + weights[i-1] > j:\n",
    "                    our_matrix[i][j] = values[i]\n",
    "                else:\n",
    "                    our_matrix[i][j] = max(our_matrix[i-1][j], values[i]+ our_matrix[i-1][j-weights[i]])         \n",
    "            else:\n",
    "                    our_matrix[i][j] = our_matrix[i-1][j]\n",
    "    return our_matrix\n",
    "\n",
    "Knapsack_DP([0,1,2,3,4], [0,5,10,25,30], 8)    "
   ]
  },
  {
   "cell_type": "code",
   "execution_count": null,
   "id": "8976b0a6",
   "metadata": {},
   "outputs": [],
   "source": []
  },
  {
   "cell_type": "code",
   "execution_count": null,
   "id": "a002b38c",
   "metadata": {},
   "outputs": [],
   "source": []
  },
  {
   "cell_type": "code",
   "execution_count": null,
   "id": "24fa5913",
   "metadata": {},
   "outputs": [],
   "source": []
  },
  {
   "cell_type": "code",
   "execution_count": null,
   "id": "c33fa393",
   "metadata": {},
   "outputs": [],
   "source": []
  }
 ],
 "metadata": {
  "kernelspec": {
   "display_name": "Python 3",
   "language": "python",
   "name": "python3"
  },
  "language_info": {
   "codemirror_mode": {
    "name": "ipython",
    "version": 3
   },
   "file_extension": ".py",
   "mimetype": "text/x-python",
   "name": "python",
   "nbconvert_exporter": "python",
   "pygments_lexer": "ipython3",
   "version": "3.8.10"
  }
 },
 "nbformat": 4,
 "nbformat_minor": 5
}
