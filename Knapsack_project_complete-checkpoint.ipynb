{
 "cells": [
  {
   "cell_type": "code",
   "execution_count": 21,
   "id": "d5df46f4",
   "metadata": {},
   "outputs": [],
   "source": [
    "import numpy as np"
   ]
  },
  {
   "cell_type": "code",
   "execution_count": null,
   "id": "0f9fd29b",
   "metadata": {},
   "outputs": [],
   "source": [
    "# you will find all functions(used or not) in the very first cell you can head forward to the final cell to run the program."
   ]
  },
  {
   "cell_type": "code",
   "execution_count": 22,
   "id": "9eb4ee25",
   "metadata": {},
   "outputs": [
    {
     "data": {
      "text/plain": [
       "(16, 34)"
      ]
     },
     "execution_count": 22,
     "metadata": {},
     "output_type": "execute_result"
    }
   ],
   "source": [
    "# max profit 0/1\n",
    "def one_or_zero_knapsack_max_profit(weights, values, max_sack_weight):\n",
    "    sack_current_weight = 0\n",
    "    sack_current_value = 0\n",
    "    values_sorted = sorted(values, reverse = True)\n",
    "    for i in values_sorted:\n",
    "        index_of_current_value = values.index(i)\n",
    "        if  weights[index_of_current_value] < max_sack_weight and sack_current_weight + weights[index_of_current_value] <= max_sack_weight:\n",
    "            sack_current_value += i\n",
    "            sack_current_weight += weights[index_of_current_value]\n",
    "        else:\n",
    "            pass\n",
    "    return sack_current_weight, sack_current_value\n",
    "\n",
    "one_or_zero_knapsack_max_profit([4,5,6,1], [8,15,6,5], 30)"
   ]
  },
  {
   "cell_type": "code",
   "execution_count": 36,
   "id": "4235e90b",
   "metadata": {},
   "outputs": [
    {
     "data": {
      "text/plain": [
       "(10, 28)"
      ]
     },
     "execution_count": 36,
     "metadata": {},
     "output_type": "execute_result"
    }
   ],
   "source": [
    "# minimum weight 0/1 \n",
    "def one_or_zero_knapsack_min_weight(weights, values, max_sack_weight):\n",
    "    sack_current_weight = 0\n",
    "    sack_current_value = 0\n",
    "    weights_sorted = sorted(weights)\n",
    "    for i in weights_sorted:\n",
    "        index_of_current_weight = weights.index(i)\n",
    "        if  i < max_sack_weight and sack_current_weight + i <= max_sack_weight:\n",
    "            sack_current_value += values[index_of_current_weight]\n",
    "            sack_current_weight += i\n",
    "        else:\n",
    "            pass\n",
    "    return sack_current_weight, sack_current_value\n",
    "\n",
    "one_or_zero_knapsack_min_weight([4,5,6,1], [8,15,6,5], 12)"
   ]
  },
  {
   "cell_type": "code",
   "execution_count": 45,
   "id": "c161eded",
   "metadata": {},
   "outputs": [
    {
     "data": {
      "text/plain": [
       "(23, 70)"
      ]
     },
     "execution_count": 45,
     "metadata": {},
     "output_type": "execute_result"
    }
   ],
   "source": [
    "# max profit per weight 0/1 \n",
    "def one_or_zero_knapsack_max_profit_per_weight(weights, values, max_sack_weight):\n",
    "    \n",
    "    weights = np.array(weights)\n",
    "    values = np.array(values)\n",
    "    profit_per_weight = values/weights\n",
    "    profit_per_weight_sorted = sorted(profit_per_weight, reverse = True)\n",
    "    \n",
    "    sack_current_weight = 0\n",
    "    sack_current_value = 0\n",
    "    \n",
    "    for i in profit_per_weight_sorted:\n",
    "        index_of_current_value = list(profit_per_weight).index(i)\n",
    "        if  weights[index_of_current_value] < max_sack_weight and sack_current_weight + weights[index_of_current_value] <= max_sack_weight:\n",
    "            sack_current_value += values[index_of_current_value]\n",
    "            sack_current_weight += weights[index_of_current_value]\n",
    "        else:\n",
    "            pass\n",
    "    return sack_current_weight, sack_current_value\n",
    "\n",
    "one_or_zero_knapsack_max_profit_per_weight([15,5,8,10], [30,20,40,10], 25)"
   ]
  },
  {
   "cell_type": "code",
   "execution_count": 27,
   "id": "ed617058",
   "metadata": {},
   "outputs": [
    {
     "data": {
      "text/plain": [
       "(23, 70)"
      ]
     },
     "execution_count": 27,
     "metadata": {},
     "output_type": "execute_result"
    }
   ],
   "source": [
    "def one_or_zero_knapsack(weights, values, max_sack_weight, cost_function):\n",
    "    # o/1 knapsack that simulate all 3 different cost function\n",
    "    # it takes weights, values, max_sack_weight, cost_function as input and returns weight of knapsack and its value\n",
    "    # cost function 1 === max value \n",
    "    # cost function 2 === min weight\n",
    "    # cost function 3 === max value per value\n",
    "    \n",
    "    if cost_function == 1:\n",
    "        sack_current_weight = 0\n",
    "        sack_current_value = 0\n",
    "        values_sorted = sorted(values, reverse = True)\n",
    "        for i in values_sorted:\n",
    "            index_of_current_value = values.index(i)\n",
    "            if  weights[index_of_current_value] < max_sack_weight and sack_current_weight + weights[index_of_current_value] <= max_sack_weight:\n",
    "                sack_current_value += i\n",
    "                sack_current_weight += weights[index_of_current_value]\n",
    "            else:\n",
    "                pass\n",
    "    ##############################################################################\n",
    "    \n",
    "    elif cost_function == 2:\n",
    "        sack_current_weight = 0\n",
    "        sack_current_value = 0\n",
    "        weights_sorted = sorted(weights)\n",
    "        for i in weights_sorted:\n",
    "            index_of_current_weight = weights.index(i)\n",
    "            if  i < max_sack_weight and sack_current_weight + i <= max_sack_weight:\n",
    "                sack_current_value += values[index_of_current_weight]\n",
    "                sack_current_weight += i\n",
    "            else:\n",
    "                pass\n",
    "            \n",
    "    #############################################################################\n",
    "    \n",
    "    elif cost_function == 3:\n",
    "        weights = np.array(weights)\n",
    "        values = np.array(values)\n",
    "        profit_per_weight = values/weights\n",
    "        profit_per_weight_sorted = sorted(profit_per_weight, reverse = True)\n",
    "\n",
    "        sack_current_weight = 0\n",
    "        sack_current_value = 0\n",
    "\n",
    "        for i in profit_per_weight_sorted:\n",
    "            index_of_current_value = list(profit_per_weight).index(i)\n",
    "            if  weights[index_of_current_value] < max_sack_weight and sack_current_weight + weights[index_of_current_value] <= max_sack_weight:\n",
    "                sack_current_value += values[index_of_current_value]\n",
    "                sack_current_weight += weights[index_of_current_value]\n",
    "            else:\n",
    "                pass\n",
    "    else:\n",
    "        return 'enter a correct cost function number'\n",
    "    \n",
    "    return sack_current_weight, sack_current_value\n",
    "    \n",
    "one_or_zero_knapsack([15,5,8,10], [30,20,40,10], 25,3)       "
   ]
  },
  {
   "cell_type": "code",
   "execution_count": 55,
   "id": "fd03ca1e",
   "metadata": {},
   "outputs": [
    {
     "data": {
      "text/plain": [
       "(25, 78.0)"
      ]
     },
     "execution_count": 55,
     "metadata": {},
     "output_type": "execute_result"
    }
   ],
   "source": [
    "def fractional_knapsack_max_value(weights, values, max_sack_weight):\n",
    "    sack_current_weight = 0\n",
    "    sack_current_value = 0\n",
    "    values_sorted = sorted(values, reverse = True)\n",
    "    for i in values_sorted:\n",
    "        index_of_current_value = values.index(i)\n",
    "        if  weights[index_of_current_value] < max_sack_weight and sack_current_weight + weights[index_of_current_value] <= max_sack_weight:\n",
    "            sack_current_value += i\n",
    "            sack_current_weight += weights[index_of_current_value]\n",
    "        else:\n",
    "            fraction = (max_sack_weight - sack_current_weight)/ weights[index_of_current_value]\n",
    "            sack_current_weight = max_sack_weight \n",
    "            sack_current_value += i * fraction\n",
    "            break\n",
    "    return sack_current_weight, sack_current_value\n",
    "\n",
    "\n",
    "fractional_knapsack_max_value([15,5,8,10], [30,20,40,10], 25)"
   ]
  },
  {
   "cell_type": "code",
   "execution_count": 59,
   "id": "49dfa66a",
   "metadata": {},
   "outputs": [
    {
     "data": {
      "text/plain": [
       "(25, 74.0)"
      ]
     },
     "execution_count": 59,
     "metadata": {},
     "output_type": "execute_result"
    }
   ],
   "source": [
    "def fractional_knapsack_min_weight(weights, values, max_sack_weight):\n",
    "    sack_current_weight = 0\n",
    "    sack_current_value = 0\n",
    "    weights_sorted = sorted(weights)\n",
    "    for i in weights_sorted:\n",
    "        index_of_current_weight = weights.index(i)\n",
    "        if  i < max_sack_weight and sack_current_weight + i <= max_sack_weight:\n",
    "            sack_current_value += values[index_of_current_weight]\n",
    "            sack_current_weight += i\n",
    "        else:\n",
    "            fraction = (max_sack_weight - sack_current_weight)/ i\n",
    "            sack_current_weight = max_sack_weight \n",
    "            sack_current_value += values[index_of_current_weight] * fraction\n",
    "            break\n",
    "    return sack_current_weight, sack_current_value\n",
    "\n",
    "fractional_knapsack_min_weight([15,5,8,10], [30,20,40,10], 25)"
   ]
  },
  {
   "cell_type": "code",
   "execution_count": 61,
   "id": "1acc83fc",
   "metadata": {},
   "outputs": [
    {
     "data": {
      "text/plain": [
       "(25, 84.0)"
      ]
     },
     "execution_count": 61,
     "metadata": {},
     "output_type": "execute_result"
    }
   ],
   "source": [
    "# max profit per weight fractional\n",
    "def fractional_knapsack_max_profit_per_weight(weights, values, max_sack_weight):\n",
    "    \n",
    "    weights = np.array(weights)\n",
    "    values = np.array(values)\n",
    "    profit_per_weight = values/weights\n",
    "    profit_per_weight_sorted = sorted(profit_per_weight, reverse = True)\n",
    "    \n",
    "    sack_current_weight = 0\n",
    "    sack_current_value = 0\n",
    "    \n",
    "    for i in profit_per_weight_sorted:\n",
    "        index_of_current_value = list(profit_per_weight).index(i)\n",
    "        if  weights[index_of_current_value] < max_sack_weight and sack_current_weight + weights[index_of_current_value] <= max_sack_weight:\n",
    "            sack_current_value += values[index_of_current_value]\n",
    "            sack_current_weight += weights[index_of_current_value]\n",
    "        else:\n",
    "            fraction = (max_sack_weight - sack_current_weight)/ weights[index_of_current_value]\n",
    "            sack_current_weight = max_sack_weight \n",
    "            sack_current_value += values[index_of_current_value] * fraction\n",
    "            break\n",
    "    return sack_current_weight, sack_current_value\n",
    "\n",
    "fractional_knapsack_max_profit_per_weight([15,5,8,10], [30,20,40,10], 25)"
   ]
  },
  {
   "cell_type": "code",
   "execution_count": 15,
   "id": "a4db221c",
   "metadata": {},
   "outputs": [
    {
     "data": {
      "text/plain": [
       "(25, 84.0)"
      ]
     },
     "execution_count": 15,
     "metadata": {},
     "output_type": "execute_result"
    }
   ],
   "source": [
    "def fractional_knapsack(weights, values, max_sack_weight, cost_function):\n",
    "    # o/1 knapsack that simulate all 3 different cost function\n",
    "    # it takes weights, values, max_sack_weight, cost_function as input and returns weight of knapsack and its value\n",
    "    # cost function 1 === max value \n",
    "    # cost function 2 === min weight\n",
    "    # cost function 3 === max value per value\n",
    "    \n",
    "    if cost_function == 1 :\n",
    "        sack_current_weight = 0\n",
    "        sack_current_value = 0\n",
    "        values_sorted = sorted(values, reverse = True)\n",
    "        for i in values_sorted:\n",
    "            index_of_current_value = values.index(i)\n",
    "            if  weights[index_of_current_value] < max_sack_weight and sack_current_weight + weights[index_of_current_value] <= max_sack_weight:\n",
    "                sack_current_value += i\n",
    "                sack_current_weight += weights[index_of_current_value]\n",
    "            else:\n",
    "                fraction = (max_sack_weight - sack_current_weight)/ weights[index_of_current_value]\n",
    "                sack_current_weight = max_sack_weight \n",
    "                sack_current_value += i * fraction\n",
    "                break\n",
    "                \n",
    "    ##########################################################################################\n",
    "    \n",
    "    elif cost_function == 2:\n",
    "        sack_current_weight = 0\n",
    "        sack_current_value = 0\n",
    "        weights_sorted = sorted(weights)\n",
    "        for i in weights_sorted:\n",
    "            index_of_current_weight = weights.index(i)\n",
    "            if  i < max_sack_weight and sack_current_weight + i <= max_sack_weight:\n",
    "                sack_current_value += values[index_of_current_weight]\n",
    "                sack_current_weight += i\n",
    "            else:\n",
    "                fraction = (max_sack_weight - sack_current_weight)/ i\n",
    "                sack_current_weight = max_sack_weight \n",
    "                sack_current_value += values[index_of_current_weight] * fraction\n",
    "                \n",
    "    ############################################################################################\n",
    "    elif cost_function ==3:\n",
    "        weights = np.array(weights)\n",
    "        values = np.array(values)\n",
    "        profit_per_weight = values/weights\n",
    "        profit_per_weight_sorted = sorted(profit_per_weight, reverse = True)\n",
    "\n",
    "        sack_current_weight = 0\n",
    "        sack_current_value = 0\n",
    "\n",
    "        for i in profit_per_weight_sorted:\n",
    "            index_of_current_value = list(profit_per_weight).index(i)\n",
    "            if  weights[index_of_current_value] < max_sack_weight and sack_current_weight + weights[index_of_current_value] <= max_sack_weight:\n",
    "                sack_current_value += values[index_of_current_value]\n",
    "                sack_current_weight += weights[index_of_current_value]\n",
    "            else:\n",
    "                fraction = (max_sack_weight - sack_current_weight)/ weights[index_of_current_value]\n",
    "                sack_current_weight = max_sack_weight \n",
    "                sack_current_value += values[index_of_current_value] * fraction\n",
    "                break\n",
    "                \n",
    "                \n",
    "    return sack_current_weight, sack_current_value\n",
    "\n",
    "fractional_knapsack([15,5,8,10], [30,20,40,10], 25,3)"
   ]
  },
  {
   "cell_type": "code",
   "execution_count": 33,
   "id": "229a4910",
   "metadata": {},
   "outputs": [
    {
     "name": "stdout",
     "output_type": "stream",
     "text": [
      "Welcome to our knapsack programe\n",
      "choose your knapsack type: \n",
      "[1] knapsack 0/1\n",
      "[2] knapsack fractional\n",
      "enter your choice: 2\n",
      "choose your cost function type type: \n",
      "[1] max value\n",
      "[2] minimum weight\n",
      "[3] max value per weight\n",
      "[4] knapsack all\n",
      "enter your choice: 3\n",
      "enter your number of objects: 4\n",
      "enter weight: 15\n",
      "enter value: 30\n",
      "enter weight: 5\n",
      "enter value: 20\n",
      "enter weight: 8\n",
      "enter value: 40\n",
      "enter weight: 10\n",
      "enter value: 10\n",
      "enter max sack weight: 25\n",
      "sack_current_weight: 25  sack_current_value: 84.0\n",
      "[1] continue\n",
      "[2] exit\n",
      "enter your choice: 1\n",
      "Welcome to our knapsack programe\n",
      "choose your knapsack type: \n",
      "[1] knapsack 0/1\n",
      "[2] knapsack fractional\n",
      "enter your choice: 2\n",
      "choose your cost function type type: \n",
      "[1] max value\n",
      "[2] minimum weight\n",
      "[3] max value per weight\n",
      "[4] knapsack all\n",
      "enter your choice: 4\n",
      "enter your number of objects: 4\n",
      "enter weight: 15\n",
      "enter value: 30\n",
      "enter weight: 5\n",
      "enter value: 20\n",
      "enter weight: 8\n",
      "enter value: 40\n",
      "enter weight: 10\n",
      "enter value: 10\n",
      "enter max sack weight: 25\n"
     ]
    },
    {
     "ename": "UnboundLocalError",
     "evalue": "local variable 'sack_current_weight' referenced before assignment",
     "output_type": "error",
     "traceback": [
      "\u001b[1;31m---------------------------------------------------------------------------\u001b[0m",
      "\u001b[1;31mUnboundLocalError\u001b[0m                         Traceback (most recent call last)",
      "\u001b[1;32m<ipython-input-33-c7000a5b838e>\u001b[0m in \u001b[0;36m<module>\u001b[1;34m\u001b[0m\n\u001b[0;32m     61\u001b[0m     \u001b[0mprint\u001b[0m\u001b[1;33m(\u001b[0m\u001b[1;34m\"Goodbye, get back soon!\"\u001b[0m\u001b[1;33m)\u001b[0m\u001b[1;33m\u001b[0m\u001b[1;33m\u001b[0m\u001b[0m\n\u001b[0;32m     62\u001b[0m \u001b[1;33m\u001b[0m\u001b[0m\n\u001b[1;32m---> 63\u001b[1;33m \u001b[0mknapsack_program_updated\u001b[0m\u001b[1;33m(\u001b[0m\u001b[1;33m)\u001b[0m\u001b[1;33m\u001b[0m\u001b[1;33m\u001b[0m\u001b[0m\n\u001b[0m",
      "\u001b[1;32m<ipython-input-24-c5649848b14b>\u001b[0m in \u001b[0;36mknapsack_program_updated\u001b[1;34m()\u001b[0m\n\u001b[0;32m     31\u001b[0m \u001b[1;33m\u001b[0m\u001b[0m\n\u001b[0;32m     32\u001b[0m         \u001b[1;32melse\u001b[0m\u001b[1;33m:\u001b[0m\u001b[1;33m\u001b[0m\u001b[1;33m\u001b[0m\u001b[0m\n\u001b[1;32m---> 33\u001b[1;33m             \u001b[0msack_current_weight\u001b[0m\u001b[1;33m,\u001b[0m \u001b[0msack_current_value\u001b[0m \u001b[1;33m=\u001b[0m \u001b[0mfractional_knapsack\u001b[0m\u001b[1;33m(\u001b[0m\u001b[0mweights\u001b[0m\u001b[1;33m,\u001b[0m \u001b[0mvalues\u001b[0m\u001b[1;33m,\u001b[0m \u001b[0mmax_sack_weight\u001b[0m\u001b[1;33m,\u001b[0m \u001b[0mcost_function_type\u001b[0m\u001b[1;33m)\u001b[0m\u001b[1;33m\u001b[0m\u001b[1;33m\u001b[0m\u001b[0m\n\u001b[0m\u001b[0;32m     34\u001b[0m             \u001b[0mprint\u001b[0m\u001b[1;33m(\u001b[0m\u001b[1;34mf'sack_current_weight: {sack_current_weight}  sack_current_value: {sack_current_value}'\u001b[0m\u001b[1;33m)\u001b[0m\u001b[1;33m\u001b[0m\u001b[1;33m\u001b[0m\u001b[0m\n\u001b[0;32m     35\u001b[0m \u001b[1;33m\u001b[0m\u001b[0m\n",
      "\u001b[1;32m<ipython-input-15-43415660d49a>\u001b[0m in \u001b[0;36mfractional_knapsack\u001b[1;34m(weights, values, max_sack_weight, cost_function)\u001b[0m\n\u001b[0;32m     59\u001b[0m \u001b[1;33m\u001b[0m\u001b[0m\n\u001b[0;32m     60\u001b[0m \u001b[1;33m\u001b[0m\u001b[0m\n\u001b[1;32m---> 61\u001b[1;33m     \u001b[1;32mreturn\u001b[0m \u001b[0msack_current_weight\u001b[0m\u001b[1;33m,\u001b[0m \u001b[0msack_current_value\u001b[0m\u001b[1;33m\u001b[0m\u001b[1;33m\u001b[0m\u001b[0m\n\u001b[0m\u001b[0;32m     62\u001b[0m \u001b[1;33m\u001b[0m\u001b[0m\n\u001b[0;32m     63\u001b[0m \u001b[0mfractional_knapsack\u001b[0m\u001b[1;33m(\u001b[0m\u001b[1;33m[\u001b[0m\u001b[1;36m15\u001b[0m\u001b[1;33m,\u001b[0m\u001b[1;36m5\u001b[0m\u001b[1;33m,\u001b[0m\u001b[1;36m8\u001b[0m\u001b[1;33m,\u001b[0m\u001b[1;36m10\u001b[0m\u001b[1;33m]\u001b[0m\u001b[1;33m,\u001b[0m \u001b[1;33m[\u001b[0m\u001b[1;36m30\u001b[0m\u001b[1;33m,\u001b[0m\u001b[1;36m20\u001b[0m\u001b[1;33m,\u001b[0m\u001b[1;36m40\u001b[0m\u001b[1;33m,\u001b[0m\u001b[1;36m10\u001b[0m\u001b[1;33m]\u001b[0m\u001b[1;33m,\u001b[0m \u001b[1;36m25\u001b[0m\u001b[1;33m,\u001b[0m\u001b[1;36m3\u001b[0m\u001b[1;33m)\u001b[0m\u001b[1;33m\u001b[0m\u001b[1;33m\u001b[0m\u001b[0m\n",
      "\u001b[1;31mUnboundLocalError\u001b[0m: local variable 'sack_current_weight' referenced before assignment"
     ]
    }
   ],
   "source": [
    "def knapsack_program():\n",
    "    \n",
    "    print(\"Welcome to our knapsack programe\")\n",
    "    option = 0\n",
    "    while option != 2:\n",
    "        print(\"choose your knapsack type: \")\n",
    "        print(\"[1] knapsack 0/1\")\n",
    "        print(\"[2] knapsack fractional\")\n",
    "        knapsack_type = int(input(\"enter your choice: \"))\n",
    "\n",
    "        print(\"choose your cost function type type: \")\n",
    "        print(\"[1] max value\")\n",
    "        print(\"[2] minimum weight\")\n",
    "        print(\"[3] max value per weight\")\n",
    "        print(\"[4] knapsack all\")\n",
    "        cost_function_type = int(input(\"enter your choice: \"))\n",
    "\n",
    "        number_of_objects = int(input(\"enter your number of objects: \"))\n",
    "\n",
    "        weights = []\n",
    "        values = []\n",
    "        for i in range(number_of_objects):\n",
    "            weights.append(int(input('enter weight: ')))\n",
    "            values.append(int(input('enter value: ')))\n",
    "\n",
    "        max_sack_weight = int(input(\"enter max sack weight: \"))\n",
    "\n",
    "        if knapsack_type == 1:\n",
    "            if cost_function_type == 4 :\n",
    "                print('using max value')\n",
    "                sack_current_weight, sack_current_value = one_or_zero_knapsack(weights, values, max_sack_weight, 1)\n",
    "                print(f'sack_current_weight: {sack_current_weight}  sack_current_value: {sack_current_value}')\n",
    "                print('using minimum value')\n",
    "                sack_current_weight, sack_current_value = one_or_zero_knapsack(weights, values, max_sack_weight, 2)\n",
    "                print(f'sack_current_weight: {sack_current_weight}  sack_current_value: {sack_current_value}')\n",
    "                print('using max value per wieght')\n",
    "                sack_current_weight, sack_current_value = one_or_zero_knapsack(weights, values, max_sack_weight, 3)\n",
    "                print(f'sack_current_weight: {sack_current_weight}  sack_current_value: {sack_current_value}')\n",
    "            else:\n",
    "                sack_current_weight, sack_current_value = one_or_zero_knapsack(weights, values, max_sack_weight, cost_function_type)\n",
    "                print(f'sack_current_weight: {sack_current_weight}  sack_current_value: {sack_current_value}')\n",
    "\n",
    "        else:\n",
    "            if cost_function_type == 4 :\n",
    "                print('using max value')\n",
    "                sack_current_weight, sack_current_value = fractional_knapsack(weights, values, max_sack_weight, 1)\n",
    "                print(f'sack_current_weight: {sack_current_weight}  sack_current_value: {sack_current_value}')\n",
    "                print('using minimum value')\n",
    "                sack_current_weight, sack_current_value = fractional_knapsack(weights, values, max_sack_weight, 2)\n",
    "                print(f'sack_current_weight: {sack_current_weight}  sack_current_value: {sack_current_value}')\n",
    "                print('using max value per wieght')\n",
    "                sack_current_weight, sack_current_value = fractional_knapsack(weights, values, max_sack_weight, 3)\n",
    "                print(f'sack_current_weight: {sack_current_weight}  sack_current_value: {sack_current_value}')\n",
    "            else:\n",
    "                sack_current_weight, sack_current_value = fractional_knapsack(weights, values, max_sack_weight, cost_function_type)\n",
    "                print(f'sack_current_weight: {sack_current_weight}  sack_current_value: {sack_current_value}')\n",
    "\n",
    "        print('[1] continue')\n",
    "        print('[2] exit')\n",
    "        option = int(input(\"enter your choice: \"))\n",
    "    print(\"Goodbye, get back soon!\")\n",
    "    \n",
    "knapsack_program()"
   ]
  },
  {
   "cell_type": "code",
   "execution_count": null,
   "id": "6774cf29",
   "metadata": {},
   "outputs": [],
   "source": []
  },
  {
   "cell_type": "code",
   "execution_count": null,
   "id": "060d4917",
   "metadata": {},
   "outputs": [],
   "source": []
  },
  {
   "cell_type": "code",
   "execution_count": null,
   "id": "05c689e4",
   "metadata": {},
   "outputs": [],
   "source": []
  },
  {
   "cell_type": "code",
   "execution_count": null,
   "id": "33cd330b",
   "metadata": {},
   "outputs": [],
   "source": [
    "fractional_knapsack([15,5,8,10], [30,20,40,10], 25,3)"
   ]
  },
  {
   "cell_type": "code",
   "execution_count": null,
   "id": "3aa6a659",
   "metadata": {},
   "outputs": [],
   "source": []
  },
  {
   "cell_type": "code",
   "execution_count": null,
   "id": "c1a52eac",
   "metadata": {},
   "outputs": [],
   "source": []
  },
  {
   "cell_type": "code",
   "execution_count": null,
   "id": "7dded730",
   "metadata": {},
   "outputs": [],
   "source": []
  },
  {
   "cell_type": "code",
   "execution_count": null,
   "id": "85f4240e",
   "metadata": {},
   "outputs": [],
   "source": []
  },
  {
   "cell_type": "code",
   "execution_count": null,
   "id": "6c2bd341",
   "metadata": {},
   "outputs": [],
   "source": []
  },
  {
   "cell_type": "code",
   "execution_count": null,
   "id": "614b0a7e",
   "metadata": {},
   "outputs": [],
   "source": []
  },
  {
   "cell_type": "code",
   "execution_count": null,
   "id": "7857f4d2",
   "metadata": {},
   "outputs": [],
   "source": []
  },
  {
   "cell_type": "code",
   "execution_count": null,
   "id": "6c682bd7",
   "metadata": {},
   "outputs": [],
   "source": [
    "[15,5,8,10], [30,20,40,10], 25"
   ]
  },
  {
   "cell_type": "code",
   "execution_count": null,
   "id": "2a02f3ca",
   "metadata": {},
   "outputs": [],
   "source": []
  },
  {
   "cell_type": "code",
   "execution_count": null,
   "id": "27642fd0",
   "metadata": {},
   "outputs": [],
   "source": []
  },
  {
   "cell_type": "code",
   "execution_count": null,
   "id": "de5416bc",
   "metadata": {},
   "outputs": [],
   "source": []
  },
  {
   "cell_type": "code",
   "execution_count": null,
   "id": "cc07366d",
   "metadata": {},
   "outputs": [],
   "source": []
  }
 ],
 "metadata": {
  "kernelspec": {
   "display_name": "Python 3",
   "language": "python",
   "name": "python3"
  },
  "language_info": {
   "codemirror_mode": {
    "name": "ipython",
    "version": 3
   },
   "file_extension": ".py",
   "mimetype": "text/x-python",
   "name": "python",
   "nbconvert_exporter": "python",
   "pygments_lexer": "ipython3",
   "version": "3.8.10"
  }
 },
 "nbformat": 4,
 "nbformat_minor": 5
}
