{
 "cells": [
  {
   "cell_type": "code",
   "execution_count": 1,
   "id": "01502c3d",
   "metadata": {},
   "outputs": [],
   "source": [
    "import numpy as np"
   ]
  },
  {
   "cell_type": "code",
   "execution_count": 3,
   "id": "7e7795a6",
   "metadata": {},
   "outputs": [],
   "source": [
    "# you will find all used functions in the very first cells, you can head forward to the final cell to run the program."
   ]
  },
  {
   "cell_type": "markdown",
   "id": "973d89bd",
   "metadata": {},
   "source": [
    "## one_or_zero_knapsack"
   ]
  },
  {
   "cell_type": "code",
   "execution_count": 2,
   "id": "5bb7ecaf",
   "metadata": {},
   "outputs": [
    {
     "data": {
      "text/plain": [
       "(23, 70)"
      ]
     },
     "execution_count": 2,
     "metadata": {},
     "output_type": "execute_result"
    }
   ],
   "source": [
    "def one_or_zero_knapsack(weights, values, max_sack_weight, cost_function):\n",
    "    # o/1 knapsack that simulate all 3 different cost function\n",
    "    # it takes weights, values, max_sack_weight, cost_function as input and returns weight of knapsack and its value\n",
    "    # cost function 1 === max value \n",
    "    # cost function 2 === min weight\n",
    "    # cost function 3 === max value per value\n",
    "    \n",
    "    if cost_function == 1:\n",
    "        sack_current_weight = 0\n",
    "        sack_current_value = 0\n",
    "        values_sorted = sorted(values, reverse = True)\n",
    "        for i in values_sorted:\n",
    "            index_of_current_value = values.index(i)\n",
    "            if  weights[index_of_current_value] < max_sack_weight and sack_current_weight + weights[index_of_current_value] <= max_sack_weight:\n",
    "                sack_current_value += i\n",
    "                sack_current_weight += weights[index_of_current_value]\n",
    "            else:\n",
    "                pass\n",
    "    ##############################################################################\n",
    "    \n",
    "    elif cost_function == 2:\n",
    "        sack_current_weight = 0\n",
    "        sack_current_value = 0\n",
    "        weights_sorted = sorted(weights)\n",
    "        for i in weights_sorted:\n",
    "            index_of_current_weight = weights.index(i)\n",
    "            if  i < max_sack_weight and sack_current_weight + i <= max_sack_weight:\n",
    "                sack_current_value += values[index_of_current_weight]\n",
    "                sack_current_weight += i\n",
    "            else:\n",
    "                pass\n",
    "            \n",
    "    #############################################################################\n",
    "    \n",
    "    elif cost_function == 3:\n",
    "        weights = np.array(weights)\n",
    "        values = np.array(values)\n",
    "        profit_per_weight = values/weights\n",
    "        profit_per_weight_sorted = sorted(profit_per_weight, reverse = True)\n",
    "\n",
    "        sack_current_weight = 0\n",
    "        sack_current_value = 0\n",
    "\n",
    "        for i in profit_per_weight_sorted:\n",
    "            index_of_current_value = list(profit_per_weight).index(i)\n",
    "            if  weights[index_of_current_value] < max_sack_weight and sack_current_weight + weights[index_of_current_value] <= max_sack_weight:\n",
    "                sack_current_value += values[index_of_current_value]\n",
    "                sack_current_weight += weights[index_of_current_value]\n",
    "            else:\n",
    "                pass\n",
    "    else:\n",
    "        return 'enter a correct cost function number'\n",
    "    \n",
    "    return sack_current_weight, sack_current_value\n",
    "    \n",
    "one_or_zero_knapsack([15,5,8,10], [30,20,40,10], 25,3)       "
   ]
  },
  {
   "cell_type": "markdown",
   "id": "bde265e1",
   "metadata": {},
   "source": [
    "## fractional_knapsack"
   ]
  },
  {
   "cell_type": "code",
   "execution_count": 3,
   "id": "31ae0580",
   "metadata": {},
   "outputs": [
    {
     "data": {
      "text/plain": [
       "(25, 84.0)"
      ]
     },
     "execution_count": 3,
     "metadata": {},
     "output_type": "execute_result"
    }
   ],
   "source": [
    "def fractional_knapsack(weights, values, max_sack_weight, cost_function):\n",
    "    # o/1 knapsack that simulate all 3 different cost function\n",
    "    # it takes weights, values, max_sack_weight, cost_function as input and returns weight of knapsack and its value\n",
    "    # cost function 1 === max value \n",
    "    # cost function 2 === min weight\n",
    "    # cost function 3 === max value per value\n",
    "    \n",
    "    if cost_function == 1 :\n",
    "        sack_current_weight = 0\n",
    "        sack_current_value = 0\n",
    "        values_sorted = sorted(values, reverse = True)\n",
    "        for i in values_sorted:\n",
    "            index_of_current_value = values.index(i)\n",
    "            if  weights[index_of_current_value] < max_sack_weight and sack_current_weight + weights[index_of_current_value] <= max_sack_weight:\n",
    "                sack_current_value += i\n",
    "                sack_current_weight += weights[index_of_current_value]\n",
    "            else:\n",
    "                fraction = (max_sack_weight - sack_current_weight)/ weights[index_of_current_value]\n",
    "                sack_current_weight = max_sack_weight \n",
    "                sack_current_value += i * fraction\n",
    "                break\n",
    "                \n",
    "    ##########################################################################################\n",
    "    \n",
    "    elif cost_function == 2:\n",
    "        sack_current_weight = 0\n",
    "        sack_current_value = 0\n",
    "        weights_sorted = sorted(weights)\n",
    "        for i in weights_sorted:\n",
    "            index_of_current_weight = weights.index(i)\n",
    "            if  i < max_sack_weight and sack_current_weight + i <= max_sack_weight:\n",
    "                sack_current_value += values[index_of_current_weight]\n",
    "                sack_current_weight += i\n",
    "            else:\n",
    "                fraction = (max_sack_weight - sack_current_weight)/ i\n",
    "                sack_current_weight = max_sack_weight \n",
    "                sack_current_value += values[index_of_current_weight] * fraction\n",
    "                \n",
    "    ############################################################################################\n",
    "    elif cost_function ==3:\n",
    "        weights = np.array(weights)\n",
    "        values = np.array(values)\n",
    "        profit_per_weight = values/weights\n",
    "        profit_per_weight_sorted = sorted(profit_per_weight, reverse = True)\n",
    "\n",
    "        sack_current_weight = 0\n",
    "        sack_current_value = 0\n",
    "\n",
    "        for i in profit_per_weight_sorted:\n",
    "            index_of_current_value = list(profit_per_weight).index(i)\n",
    "            if  weights[index_of_current_value] < max_sack_weight and sack_current_weight + weights[index_of_current_value] <= max_sack_weight:\n",
    "                sack_current_value += values[index_of_current_value]\n",
    "                sack_current_weight += weights[index_of_current_value]\n",
    "            else:\n",
    "                fraction = (max_sack_weight - sack_current_weight)/ weights[index_of_current_value]\n",
    "                sack_current_weight = max_sack_weight \n",
    "                sack_current_value += values[index_of_current_value] * fraction\n",
    "                break\n",
    "                \n",
    "                \n",
    "    return sack_current_weight, sack_current_value\n",
    "\n",
    "fractional_knapsack([15,5,8,10], [30,20,40,10], 25,3)"
   ]
  },
  {
   "cell_type": "markdown",
   "id": "f467dd1c",
   "metadata": {},
   "source": [
    "## Knapsack_DP_0/1"
   ]
  },
  {
   "cell_type": "code",
   "execution_count": 12,
   "id": "47c3b171",
   "metadata": {},
   "outputs": [
    {
     "data": {
      "text/plain": [
       "55.0"
      ]
     },
     "execution_count": 12,
     "metadata": {},
     "output_type": "execute_result"
    }
   ],
   "source": [
    "def Knapsack_DP(weights, values, max_sack_weight):\n",
    "    our_matrix = np.zeros((len(weights), max_sack_weight +1))\n",
    "    for i in range(1,len(weights)) :   \n",
    "        for j in range(1,max_sack_weight+1):\n",
    "            if weights[i] <= j :\n",
    "                if weights[i] + weights[i-1] > j:\n",
    "                    our_matrix[i][j] = values[i]\n",
    "                else:\n",
    "                    our_matrix[i][j] = max(our_matrix[i-1][j], values[i]+ our_matrix[i-1][j-weights[i]])         \n",
    "            else:\n",
    "                    our_matrix[i][j] = our_matrix[i-1][j]\n",
    "    return our_matrix[-1][-1]\n",
    "\n",
    "Knapsack_DP([0,1,2,3,4], [0,5,10,25,30], 8)    "
   ]
  },
  {
   "cell_type": "markdown",
   "id": "bede1f52",
   "metadata": {},
   "source": [
    "## Knapsack Program"
   ]
  },
  {
   "cell_type": "code",
   "execution_count": 11,
   "id": "5acbb1f7",
   "metadata": {},
   "outputs": [
    {
     "name": "stdout",
     "output_type": "stream",
     "text": [
      "Welcome to our knapsack programe\n",
      "choose your knapsack type: \n",
      "[1] knapsack 0/1\n",
      "[2] knapsack fractional\n",
      "[3] knapsack DP 0/1\n",
      "enter your choice: 3\n",
      "choose your cost function type type: \n",
      "[1] max value\n",
      "[2] minimum weight\n",
      "[3] max value per weight\n",
      "[4] knapsack all\n",
      "[5] knapsack DP 0/1\n",
      "enter your choice: 5\n",
      "enter your number of objects: 5\n",
      "enter weight: 0\n",
      "enter value: 0\n",
      "enter weight: 1\n",
      "enter value: 5\n",
      "enter weight: 2\n",
      "enter value: 10\n",
      "enter weight: 3\n",
      "enter value: 25\n",
      "enter weight: 4\n",
      "enter value: 30\n",
      "enter max sack weight: 8\n",
      "sack_current_value: 55.0\n",
      "[1] continue\n",
      "[2] exit\n",
      "enter your choice: 2\n",
      "Goodbye, get back soon!\n"
     ]
    }
   ],
   "source": [
    "def knapsack_program():\n",
    "    \n",
    "    print(\"Welcome to our knapsack programe\")\n",
    "    option = 0\n",
    "    while option != 2:\n",
    "        print(\"choose your knapsack type: \")\n",
    "        print(\"[1] knapsack 0/1\")\n",
    "        print(\"[2] knapsack fractional\")\n",
    "        print(\"[3] knapsack DP 0/1\")\n",
    "        knapsack_type = int(input(\"enter your choice: \"))\n",
    "\n",
    "        print(\"choose your cost function type type: \")\n",
    "        print(\"[1] max value\")\n",
    "        print(\"[2] minimum weight\")\n",
    "        print(\"[3] max value per weight\")\n",
    "        print(\"[4] knapsack all\")\n",
    "        print(\"[5] knapsack DP 0/1\")\n",
    "        cost_function_type = int(input(\"enter your choice: \"))\n",
    "\n",
    "        number_of_objects = int(input(\"enter your number of objects: \"))\n",
    "\n",
    "        weights = []\n",
    "        values = []\n",
    "        for i in range(number_of_objects):\n",
    "            weights.append(int(input('enter weight: ')))\n",
    "            values.append(int(input('enter value: ')))\n",
    "\n",
    "        max_sack_weight = int(input(\"enter max sack weight: \"))\n",
    "\n",
    "        if knapsack_type == 1:\n",
    "            if cost_function_type == 4 :\n",
    "                print('using max value')\n",
    "                sack_current_weight, sack_current_value = one_or_zero_knapsack(weights, values, max_sack_weight, 1)\n",
    "                print(f'sack current weight: {sack_current_weight}  sack current value: {sack_current_value}')\n",
    "                print('using minimum value')\n",
    "                sack_current_weight, sack_current_value = one_or_zero_knapsack(weights, values, max_sack_weight, 2)\n",
    "                print(f'sack current weight: {sack_current_weight}  sack current value: {sack_current_value}')\n",
    "                print('using max value per wieght')\n",
    "                sack_current_weight, sack_current_value = one_or_zero_knapsack(weights, values, max_sack_weight, 3)\n",
    "                print(f'sack current weight: {sack_current_weight}  sack current value: {sack_current_value}')\n",
    "            else:\n",
    "                sack_current_weight, sack_current_value = one_or_zero_knapsack(weights, values, max_sack_weight, cost_function_type)\n",
    "                print(f'sack current weight: {sack_current_weight}  sack current value: {sack_current_value}')\n",
    "\n",
    "        elif knapsack_type == 2:\n",
    "            if cost_function_type == 4 :\n",
    "                print('using max value')\n",
    "                sack_current_weight, sack_current_value = fractional_knapsack(weights, values, max_sack_weight, 1)\n",
    "                print(f'sack current weight: {sack_current_weight}  sack current value: {sack_current_value}')\n",
    "                print('using minimum value')\n",
    "                sack_current_weight, sack_current_value = fractional_knapsack(weights, values, max_sack_weight, 2)\n",
    "                print(f'sack current weight: {sack_current_weight}  sack current value: {sack_current_value}')\n",
    "                print('using max value per wieght')\n",
    "                sack_current_weight, sack_current_value = fractional_knapsack(weights, values, max_sack_weight, 3)\n",
    "                print(f'sack current weight: {sack_current_weight}  sack current value: {sack_current_value}')\n",
    "            else:\n",
    "                sack_current_weight, sack_current_value = fractional_knapsack(weights, values, max_sack_weight, cost_function_type)\n",
    "                print(f'sack current weight: {sack_current_weight}  sack current value: {sack_current_value}')\n",
    "        elif knapsack_type == 3:\n",
    "            val = Knapsack_DP(weights, values, max_sack_weight) \n",
    "            print(f'sack current value: {val}')\n",
    "\n",
    "            \n",
    "\n",
    "        print('[1] continue')\n",
    "        print('[2] exit')\n",
    "        option = int(input(\"enter your choice: \"))\n",
    "    print(\"Goodbye, get back soon!\")\n",
    "    \n",
    "knapsack_program()"
   ]
  }
 ],
 "metadata": {
  "kernelspec": {
   "display_name": "Python 3",
   "language": "python",
   "name": "python3"
  },
  "language_info": {
   "codemirror_mode": {
    "name": "ipython",
    "version": 3
   },
   "file_extension": ".py",
   "mimetype": "text/x-python",
   "name": "python",
   "nbconvert_exporter": "python",
   "pygments_lexer": "ipython3",
   "version": "3.8.10"
  }
 },
 "nbformat": 4,
 "nbformat_minor": 5
}
