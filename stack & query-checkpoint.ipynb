{
 "cells": [
  {
   "cell_type": "markdown",
   "id": "64f25136",
   "metadata": {},
   "source": [
    "## Stack"
   ]
  },
  {
   "cell_type": "code",
   "execution_count": 92,
   "id": "092a14c6",
   "metadata": {},
   "outputs": [],
   "source": [
    "class stack:\n",
    "    stack_list=[]\n",
    "    pointer  = 0\n",
    "    \n",
    "    def __init__(self, size = 100):\n",
    "        self.size = size\n",
    "        \n",
    "    def isempty(self):\n",
    "        if len(self.stack_list) == 0:\n",
    "            return True \n",
    "        else:\n",
    "            return False\n",
    "    \n",
    "    def isfull(self):\n",
    "        if len(self.stack_list) == self.size:\n",
    "            return True \n",
    "        else:\n",
    "            return False\n",
    "        \n",
    "    def push(self, element):\n",
    "        if self.isfull() == False: \n",
    "            self.stack_list.append(element)\n",
    "            self.pointer += 1\n",
    "        else:\n",
    "            raise ValueError('your stack is full')\n",
    "        \n",
    "    def pop(self):\n",
    "        if self.isempty() == False:\n",
    "            x = self.stack_list[-1]\n",
    "            self.stack_list.remove(self.stack_list[-1])\n",
    "            self.pointer -= 1\n",
    "            return x\n",
    "        else:\n",
    "            raise ValueError('your stack is empty')\n",
    "   \n",
    "    def show_stack(self):\n",
    "        return self.stack_list\n"
   ]
  },
  {
   "cell_type": "markdown",
   "id": "9fe2a21c",
   "metadata": {},
   "source": [
    "## Queue"
   ]
  },
  {
   "cell_type": "code",
   "execution_count": 93,
   "id": "aba86a93",
   "metadata": {},
   "outputs": [],
   "source": [
    "class queue:\n",
    "    queue_list=[]\n",
    "    pointer  = 0\n",
    "    \n",
    "    def __init__(self, size = 100):\n",
    "        self.size = size\n",
    "        \n",
    "    def isempty(self):\n",
    "        if len(self.queue_list) == 0:\n",
    "            return True \n",
    "        else:\n",
    "            return False\n",
    "    \n",
    "    def isfull(self):\n",
    "        if len(self.queue_list) == self.size:\n",
    "            return True \n",
    "        else:\n",
    "            return False\n",
    "        \n",
    "    def push(self, element):\n",
    "        if self.isfull() == False: \n",
    "            self.queue_list.append(element)\n",
    "            self.pointer += 1\n",
    "        else:\n",
    "            raise ValueError('your queue is full')\n",
    "        \n",
    "    def pop(self):\n",
    "        if self.isempty() == False:\n",
    "            x = self.queue_list[0]\n",
    "            self.queue_list.remove(self.queue_list[0])\n",
    "            self.pointer -= 1\n",
    "            return x\n",
    "        else:\n",
    "            raise ValueError('your queue is empty')\n",
    "   \n",
    "    def show_queue(self):\n",
    "        return self.queue_list\n"
   ]
  },
  {
   "cell_type": "code",
   "execution_count": 94,
   "id": "32ad69d6",
   "metadata": {},
   "outputs": [],
   "source": [
    "G={\"a\":[\"b\",\"c\",\"e\"],\"b\":[\"a\",\"d\"],\"c\":[\"a\",\"d\",\"e\",\"f\"],\"d\":[\"b\",\"c\",\"e\"],\"e\":[\"a\",\"d\",\"c\"],\"f\":[\"c\"]}"
   ]
  },
  {
   "cell_type": "markdown",
   "id": "69d2ab83",
   "metadata": {},
   "source": [
    "## DFS"
   ]
  },
  {
   "cell_type": "code",
   "execution_count": 95,
   "id": "e99eff19",
   "metadata": {},
   "outputs": [
    {
     "name": "stdout",
     "output_type": "stream",
     "text": [
      "['a', 'e', 'c', 'f', 'd', 'b']\n"
     ]
    }
   ],
   "source": [
    "def DFS():\n",
    "    visited = []\n",
    "    st = stack()\n",
    "    st.push(\"a\")\n",
    "    while st.isempty() == False:  \n",
    "        val = st.pop()\n",
    "        if val in visited:\n",
    "            pass\n",
    "        else:\n",
    "            visited.append(val)\n",
    "            for i in G[val]:\n",
    "                st.push(i)\n",
    "    return visited\n",
    "\n",
    "print(DFS())"
   ]
  },
  {
   "cell_type": "markdown",
   "id": "1ad95235",
   "metadata": {},
   "source": [
    "## Recursive DFS"
   ]
  },
  {
   "cell_type": "code",
   "execution_count": 102,
   "id": "2a7dc09f",
   "metadata": {},
   "outputs": [
    {
     "name": "stdout",
     "output_type": "stream",
     "text": [
      "['a', 'e', 'c', 'f', 'd', 'b']\n"
     ]
    }
   ],
   "source": [
    "visited = []\n",
    "st = stack()\n",
    "st.push(\"a\")\n",
    "\n",
    "def DFS_Recursive():\n",
    "    val = st.pop()\n",
    "    if val in visited:\n",
    "        pass\n",
    "    else:\n",
    "        visited.append(val)\n",
    "        for i in G[val]:\n",
    "            st.push(i)\n",
    "    if st.isempty():\n",
    "        return \n",
    "    else:\n",
    "        DFS_Recursive()\n",
    "        \n",
    "    return visited\n",
    "        \n",
    "print(DFS_Recursive())"
   ]
  },
  {
   "cell_type": "markdown",
   "id": "3fa9324c",
   "metadata": {},
   "source": [
    "## BFS"
   ]
  },
  {
   "cell_type": "code",
   "execution_count": 96,
   "id": "ccb6d6d1",
   "metadata": {},
   "outputs": [
    {
     "name": "stdout",
     "output_type": "stream",
     "text": [
      "['a', 'b', 'c', 'e', 'd', 'f']\n"
     ]
    }
   ],
   "source": [
    "def BFS():\n",
    "    visited = []\n",
    "    que = queue()\n",
    "    que.push(\"a\")\n",
    "    while que.isempty() == False:  \n",
    "        val = que.pop()\n",
    "        if val in visited:\n",
    "            pass\n",
    "        else:\n",
    "            visited.append(val)\n",
    "            for k in G[val]:\n",
    "                que.push(k)\n",
    "    \n",
    "    return visited\n",
    "\n",
    "print(BFS())"
   ]
  },
  {
   "cell_type": "code",
   "execution_count": null,
   "id": "0aa0e3e3",
   "metadata": {},
   "outputs": [],
   "source": []
  }
 ],
 "metadata": {
  "kernelspec": {
   "display_name": "Python 3",
   "language": "python",
   "name": "python3"
  },
  "language_info": {
   "codemirror_mode": {
    "name": "ipython",
    "version": 3
   },
   "file_extension": ".py",
   "mimetype": "text/x-python",
   "name": "python",
   "nbconvert_exporter": "python",
   "pygments_lexer": "ipython3",
   "version": "3.8.10"
  }
 },
 "nbformat": 4,
 "nbformat_minor": 5
}
